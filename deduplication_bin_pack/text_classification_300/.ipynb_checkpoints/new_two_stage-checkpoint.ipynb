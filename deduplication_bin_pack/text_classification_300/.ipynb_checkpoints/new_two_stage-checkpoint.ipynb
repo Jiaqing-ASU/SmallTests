{
 "cells": [
  {
   "cell_type": "code",
   "execution_count": 1,
   "id": "b09c8f3e",
   "metadata": {},
   "outputs": [
    {
     "name": "stdout",
     "output_type": "stream",
     "text": [
      "Time:  0.0005530540001927875\n",
      "10\n"
     ]
    }
   ],
   "source": [
    "import numpy as np\n",
    "import sys\n",
    "from numpy.lib.arraysetops import unique\n",
    "from bin_pack import *\n",
    "import uuid\n",
    "import hashlib\n",
    "import timeit\n",
    "import itertools\n",
    "\n",
    "ll0=[0,1,2,3,4,5,6,7,8,9,10,11,12,13,14,15,16,17,18,20,21,22,23,24,25]\n",
    "ll1=[0,1,2,3,4,5,6,7,8,16,17,18,19,26,27]\n",
    "ll2=[0,1,2,3,4,5,6,9,10,11,12,13,14,15,19]\n",
    "ll3=[0,1,2,3,4,5,6,7,8,9,10,11,12,13,14,15,16,17,18,19,20,21,28,29,30,31]\n",
    "ll4=[0,1,2,3,4,5,6,7,8,9,10,11,12,13,14,15,32,33,34,35,36,37,38]\n",
    "list_of_tensors = [ll0,ll1,ll2,ll3,ll4]\n",
    "\n",
    "blocks_in_page = 8\n",
    "P = set()\n",
    "start = timeit.default_timer()\n",
    "P, tensor_page_mapping = bin_pack_greedy(list_of_tensors, blocks_in_page)\n",
    "stop = timeit.default_timer()\n",
    "print('Time: ', stop - start) \n",
    "L = list(P)\n",
    "print(L[0].numBins)\n",
    "block_page_list = L[0].p_i_j"
   ]
  },
  {
   "cell_type": "code",
   "execution_count": null,
   "id": "5abdd6cb",
   "metadata": {},
   "outputs": [],
   "source": []
  }
 ],
 "metadata": {
  "kernelspec": {
   "display_name": "Python 3",
   "language": "python",
   "name": "python3"
  },
  "language_info": {
   "codemirror_mode": {
    "name": "ipython",
    "version": 3
   },
   "file_extension": ".py",
   "mimetype": "text/x-python",
   "name": "python",
   "nbconvert_exporter": "python",
   "pygments_lexer": "ipython3",
   "version": "3.8.8"
  }
 },
 "nbformat": 4,
 "nbformat_minor": 5
}
