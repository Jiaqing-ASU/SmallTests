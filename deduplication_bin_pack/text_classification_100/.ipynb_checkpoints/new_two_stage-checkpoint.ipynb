{
 "cells": [
  {
   "cell_type": "code",
   "execution_count": null,
   "id": "b6680a82",
   "metadata": {},
   "outputs": [],
   "source": [
    "import numpy as np\n",
    "import sys\n",
    "from numpy.lib.arraysetops import unique\n",
    "from bin_pack import *\n",
    "import uuid\n",
    "import hashlib\n",
    "import timeit\n",
    "import itertools\n",
    "\n",
    "ll0=[491,501,487,488,493,494,665,666,667,668,669,670,671]\n",
    "ll1=[491,410,490,561,562]\n",
    "ll2=[491,501,487,488,493,494,410,490,415,512,509,510,511]\n",
    "ll3=[501,659,660,661,662]\n",
    "ll4=[491,501,487,488,493,494,410,490,415,505,506,507,508]\n",
    "list_of_tensors = [ll0,ll1,ll2,ll3,ll4]\n",
    "\n",
    "blocks_in_page = 8\n",
    "P = set()\n",
    "start = timeit.default_timer()\n",
    "P, tensor_page_mapping = bin_pack_greedy(list_of_tensors, blocks_in_page)\n",
    "\n",
    "stop = timeit.default_timer()\n",
    "print('Time: ', stop - start) \n",
    "L = list(P)\n",
    "print(L[0].numBins)\n",
    "block_page_list = L[0].p_i_j"
   ]
  }
 ],
 "metadata": {
  "kernelspec": {
   "display_name": "Python 3",
   "language": "python",
   "name": "python3"
  },
  "language_info": {
   "codemirror_mode": {
    "name": "ipython",
    "version": 3
   },
   "file_extension": ".py",
   "mimetype": "text/x-python",
   "name": "python",
   "nbconvert_exporter": "python",
   "pygments_lexer": "ipython3",
   "version": "3.8.8"
  }
 },
 "nbformat": 4,
 "nbformat_minor": 5
}
