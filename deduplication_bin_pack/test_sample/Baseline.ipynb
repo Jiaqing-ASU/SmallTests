{
 "cells": [
  {
   "cell_type": "code",
   "execution_count": null,
   "id": "197f230c",
   "metadata": {},
   "outputs": [],
   "source": [
    "import numpy as np\n",
    "input = np.load('detector_output_without_deduplication.npy', allow_pickle=True).item()\n",
    "block_size = input.get('block_size')\n",
    "unique_blocks = len(input.get('list_blocks'))\n",
    "tensor_shapes = input.get('blocked_tensor_dimension')\n",
    "tensor_mapping = input.get('tensor_mapping')\n",
    "num_tensors = len(tensor_shapes)\n",
    "\n",
    "list_of_tensors = list()\n",
    "for i in range (num_tensors):\n",
    "    tensor_shapes[i] = input.get('blocked_tensor_dimension')[i]\n",
    "for t in range(num_tensors):\n",
    "    first, snd = tensor_shapes[t]\n",
    "    l = list()\n",
    "    for i in range(first):\n",
    "        for j in range(snd):\n",
    "            l.append(tensor_mapping[t].get((i,j)))\n",
    "    list_of_tensors.append(l)\n",
    "#print(list_of_tensors)"
   ]
  },
  {
   "cell_type": "code",
   "execution_count": null,
   "id": "ab482789",
   "metadata": {},
   "outputs": [],
   "source": [
    "import numpy as np\n",
    "from numpy.lib.arraysetops import unique\n",
    "from bin_pack import *\n",
    "import uuid\n",
    "import hashlib\n",
    "import timeit\n",
    "\n",
    "def baseline(T, unique_blocks, l):\n",
    "    I = set()\n",
    "    for t_i in T:\n",
    "        I = I.union(t_i)\n",
    "    I = list(I)\n",
    "\n",
    "    tensor_page_mapping = dict()\n",
    "    tensor_page_set = set()\n",
    "\n",
    "    i, j = 0, 0\n",
    "    p_i_j = BinPackingScheme(I, l)\n",
    "\n",
    "    # Process at all items in t0\n",
    "    for r in range(1, len(T) + 1):\n",
    "        for i in range(1, unique_blocks + 1):\n",
    "            j = I.index(unique_blocks-1)\n",
    "            s = math.ceil(j / l)\n",
    "            tensor_page_set.add(s-1)\n",
    "            p_i_j.mark(j, s)\n",
    "        \n",
    "        numBins = math.ceil( unique_blocks / l)\n",
    "        p_i_j.numBins = numBins\n",
    "        tensor_page_mapping[r] = tensor_page_set\n",
    "\n",
    "    return set([p_i_j]), tensor_page_mapping\n"
   ]
  },
  {
   "cell_type": "code",
   "execution_count": null,
   "id": "7e8a673e",
   "metadata": {},
   "outputs": [],
   "source": [
    "blocks_in_page = 10 # page can have 10 blocks\n",
    "P = set()\n",
    "start = timeit.default_timer()\n",
    "P, tensor_page_mapping = baseline(list_of_tensors, unique_blocks, blocks_in_page)\n",
    "stop = timeit.default_timer()\n",
    "print('Time: ', stop - start) \n",
    "L = list(P)\n",
    "print(L[0].numBins)"
   ]
  },
  {
   "cell_type": "code",
   "execution_count": null,
   "id": "e382a1e7",
   "metadata": {},
   "outputs": [],
   "source": []
  }
 ],
 "metadata": {
  "kernelspec": {
   "display_name": "Python 3",
   "language": "python",
   "name": "python3"
  },
  "language_info": {
   "codemirror_mode": {
    "name": "ipython",
    "version": 3
   },
   "file_extension": ".py",
   "mimetype": "text/x-python",
   "name": "python",
   "nbconvert_exporter": "python",
   "pygments_lexer": "ipython3",
   "version": "3.8.8"
  }
 },
 "nbformat": 4,
 "nbformat_minor": 5
}
