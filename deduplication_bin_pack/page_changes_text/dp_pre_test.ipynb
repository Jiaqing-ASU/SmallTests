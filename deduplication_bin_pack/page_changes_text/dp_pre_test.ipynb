{
 "cells": [
  {
   "cell_type": "code",
   "execution_count": 1,
   "id": "6fc61b3b",
   "metadata": {},
   "outputs": [],
   "source": [
    "import numpy as np\n",
    "import itertools\n",
    "import timeit\n",
    "\n",
    "output = np.load('tensor_list.npy', allow_pickle=True).item()\n",
    "#output.keys()\n",
    "#print(output['list_of_tensors'])\n",
    "\n",
    "list_tensors = [{}, {}, {}, {}, {}]\n",
    "\n",
    "for num in range(5):\n",
    "    a0=set(output['list_of_tensors'][0+num*5])\n",
    "    a1=set(output['list_of_tensors'][1+num*5])\n",
    "    a2=set(output['list_of_tensors'][2+num*5])\n",
    "    a3=set(output['list_of_tensors'][3+num*5])\n",
    "    a4=set(output['list_of_tensors'][4+num*5])\n",
    "    list_tensors[num]=a0.union(a1, a2, a3, a4)"
   ]
  },
  {
   "cell_type": "code",
   "execution_count": 47,
   "id": "d47d1d04",
   "metadata": {},
   "outputs": [
    {
     "name": "stdout",
     "output_type": "stream",
     "text": [
      "{0, 1, 2, 3, 4, 5, 6, 7, 8, 9, 10, 11, 12, 13, 14, 15, 16, 17, 18, 19, 20, 21, 22, 23, 24, 25, 26, 27, 28, 29, 30, 31, 32, 33, 34, 35, 36, 37, 38, 39, 40, 41, 42, 43, 44, 45, 46, 47, 48, 49, 50, 51, 52, 53, 54, 55, 56, 57, 58, 59, 60, 61, 62, 63, 64, 65, 66, 67, 68, 69, 70, 71, 72, 73, 74, 75, 76, 77, 78, 79, 80, 81, 82, 83, 84, 85, 86, 87, 88, 89, 90, 91, 92, 93, 94, 95, 96, 97, 98, 99, 100, 101, 102, 103, 104, 105, 106, 107, 108, 109, 110, 111, 112, 113, 114, 115, 116, 117, 118, 119, 120, 121, 122, 123, 124, 125, 126, 127, 128, 129, 130, 131, 132, 133, 134, 135, 136, 137, 138, 139, 140, 141, 142, 143, 144, 145, 146, 147, 148, 149, 150, 151, 152, 153, 154, 155, 156, 157, 158, 159, 160, 161, 162, 163, 164, 165, 166, 167, 168, 169, 170, 171, 172, 173, 174, 175, 176, 177, 178, 179, 180, 181, 182, 183, 184, 185, 186, 187, 188, 189, 190, 191, 192, 193, 194, 195, 196, 197, 198, 199, 200, 201, 202, 203, 204, 205, 206, 207, 208, 209, 210, 211, 212, 213, 214, 215, 216, 217, 218, 219, 220, 221, 222, 223, 224, 225, 226, 227, 228, 229, 230, 231, 232, 233, 234, 235, 236, 237, 238, 239, 240, 241, 242, 243, 244, 245, 246, 247, 248, 249, 250, 251, 252, 253, 254, 255, 256, 257, 258, 259, 260, 261, 262, 263, 264, 265, 266, 267, 268, 269, 270, 271, 272, 273, 274, 275, 276, 277, 278, 279, 280, 281, 282, 283, 284, 285, 286, 287, 288, 289, 290, 291, 292, 293, 294, 295, 296, 297, 298, 299, 300, 301, 302, 303, 304, 305, 306, 307, 308, 309, 310, 311, 312, 313, 314, 315, 316, 317, 318, 319, 320, 321, 322, 323, 324, 325, 326, 327, 328, 329, 330, 331, 332, 333, 334, 335, 336, 337, 338, 339, 340, 341, 342, 343, 344, 345, 346, 347, 348, 349, 350, 351, 352, 353, 354, 355, 356, 357, 358, 359, 360, 361, 362, 363, 364, 365, 366, 367, 368, 369, 370, 371, 372, 373, 374, 375, 376, 377, 378, 379, 380, 381, 382, 383, 384, 385, 386, 387, 388, 389, 390, 391, 392, 393, 394, 395, 396, 397, 398, 399, 400, 401, 402, 403, 404, 405, 406, 407, 408, 409, 411, 412, 413, 414, 420, 421, 422, 423, 424, 425, 426, 427, 428, 429, 430, 431, 432, 433, 434, 435, 436, 438, 439, 440, 441, 442, 443, 444, 445, 446, 447, 448, 449, 450, 451, 452, 453, 454, 455, 456, 457, 458, 459, 460, 461, 462, 463, 464, 465, 466, 467, 468, 469, 470, 471, 472, 473, 474, 476, 478, 479, 480, 481, 482, 483, 484, 485, 486, 487, 488, 489, 491, 493, 494, 495, 496, 497, 498, 499, 500, 501, 502, 503, 504, 663, 664, 665, 666, 667, 668, 669, 670, 671, 672, 673, 674, 675, 676, 677}\n",
      "509\n"
     ]
    }
   ],
   "source": [
    "import math\n",
    "\n",
    "print(list_tensors[0])\n",
    "print(len(list_tensors[0]))\n",
    "#one_tensor_pack = dict()\n",
    "#one_tensor_list = list(list_tensors[0])\n",
    "#for i in range(math.ceil(len(one_tensor_list)/8)):\n",
    "#    pack_list = list()\n",
    "#    for j in range(8):\n",
    "#        block_index = i*8 + j\n",
    "#        pack_list.append(one_tensor_list[block_index])\n",
    "#    one_tensor_pack[i] = pack_list\n",
    "#    pack_list.clear()\n",
    "#print(one_tensor_pack)        "
   ]
  },
  {
   "cell_type": "code",
   "execution_count": 51,
   "id": "fad023b2",
   "metadata": {
    "scrolled": true
   },
   "outputs": [
    {
     "name": "stdout",
     "output_type": "stream",
     "text": [
      "{400, 401, 405, 406, 407, 411, 420, 421, 425, 426, 430, 431, 435, 436, 440, 441, 442, 443, 444, 445, 446, 447, 448, 449, 450, 451, 452, 453, 454, 455, 456, 457, 458, 459, 460, 461, 463, 465, 466, 468, 470, 471, 480, 481, 485, 486, 489, 491, 495, 496, 497, 498, 499, 500, 502, 503, 504}\n",
      "57\n"
     ]
    }
   ],
   "source": [
    "#print(\"Shared by tensor 0 and 1:\")\n",
    "l01=list_tensors[0].intersection(list_tensors[1])\n",
    "#print(l01)\n",
    "#diff = set(range(505)) - set(l01)\n",
    "#print(diff)\n",
    "l01_r = set(l01) - set(range(400))\n",
    "print(l01_r)\n",
    "print(len(l01_r))"
   ]
  },
  {
   "cell_type": "code",
   "execution_count": null,
   "id": "7e717176",
   "metadata": {},
   "outputs": [],
   "source": []
  },
  {
   "cell_type": "code",
   "execution_count": 58,
   "id": "f77092e5",
   "metadata": {},
   "outputs": [
    {
     "name": "stdout",
     "output_type": "stream",
     "text": [
      "{402, 403, 404, 408, 409, 412, 413, 414, 422, 423, 424, 427, 428, 429, 432, 433, 434, 438, 439, 462, 464, 467, 469, 472, 473, 474, 476, 478, 479, 482, 483, 484, 487, 488, 493, 494, 501}\n",
      "37\n",
      "set()\n",
      "{410, 490}\n"
     ]
    }
   ],
   "source": [
    "#print(\"Shared by tensor 0 and 1 and 2:\")\n",
    "l012=list_tensors[0].intersection(list_tensors[1],list_tensors[2])\n",
    "l012_r = set(l012)-set(range(400))\n",
    "#print(set(l012)-set(range(400)))\n",
    "#print(set(list_tensors[2]) - l012_r - set(range(400)))\n",
    "#print(list_tensors[2])\n",
    "#diff012 = set(range(505)) - set(l012)\n",
    "#print(diff012)\n",
    "#print(len(diff012))\n",
    "l02 = list_tensors[0].intersection(list_tensors[2]) - l012\n",
    "l01 = list_tensors[0].intersection(list_tensors[1]) - l012\n",
    "l12 = list_tensors[1].intersection(list_tensors[2]) - l012\n",
    "\n",
    "print(l02)\n",
    "print(len(l02))\n",
    "print(l01)\n",
    "print(l12)"
   ]
  },
  {
   "cell_type": "code",
   "execution_count": 60,
   "id": "d958ccdf",
   "metadata": {},
   "outputs": [
    {
     "name": "stdout",
     "output_type": "stream",
     "text": [
      "{450, 451, 495, 496, 497, 498, 499, 500, 502, 503, 504, 444}\n",
      "{501}\n"
     ]
    }
   ],
   "source": [
    "l0123=list_tensors[0].intersection(list_tensors[1],list_tensors[2],list_tensors[3])\n",
    "l0123_r = set(l0123)-set(range(400))\n",
    "print(l0123_r)\n",
    "\n",
    "l023 = list_tensors[0].intersection(list_tensors[2],list_tensors[3]) - l0123\n",
    "print(l023)\n",
    "#print(len(list_tensors[0]))\n",
    "#print(list_tensors[0])\n",
    "#diff = set(range(678)) - set(list_tensors[0])\n",
    "#print(diff)"
   ]
  },
  {
   "cell_type": "code",
   "execution_count": 45,
   "id": "1c4b4e53",
   "metadata": {},
   "outputs": [
    {
     "name": "stdout",
     "output_type": "stream",
     "text": [
      "{416, 417, 418, 419, 490, 492, 437, 410, 475, 477, 415}\n"
     ]
    }
   ],
   "source": [
    "print(set(range(504)) - list_tensors[0])"
   ]
  },
  {
   "cell_type": "code",
   "execution_count": 39,
   "id": "fe64cba5",
   "metadata": {},
   "outputs": [
    {
     "name": "stdout",
     "output_type": "stream",
     "text": [
      "{513, 514, 515, 516, 517, 518, 519, 520, 521, 522, 523, 524, 525, 526, 527, 528, 529, 530, 531, 532, 533, 534, 535, 536, 537, 538, 539, 540, 541, 542, 543, 544, 545, 546, 547, 548, 549, 550, 551, 552, 553, 554, 555, 556, 557, 558, 559, 560, 561, 562, 400, 401, 405, 406, 407, 410, 411, 420, 421, 425, 426, 430, 431, 435, 436, 440, 441, 442, 443, 444, 445, 446, 447, 448, 449, 450, 451, 452, 453, 454, 455, 456, 457, 458, 459, 460, 461, 463, 465, 466, 468, 470, 471, 480, 481, 485, 486, 489, 490, 491, 495, 496, 497, 498, 499, 500, 502, 503, 504}\n",
      "109\n"
     ]
    }
   ],
   "source": [
    "diff_1 = set(list_tensors[1]) - set(range(400))\n",
    "print(diff_1)\n",
    "print(len(diff_1))"
   ]
  },
  {
   "cell_type": "code",
   "execution_count": 43,
   "id": "9ad2ebcb",
   "metadata": {},
   "outputs": [
    {
     "name": "stdout",
     "output_type": "stream",
     "text": [
      "{416, 417, 418, 419, 490, 492, 437, 410, 475, 477, 415}\n"
     ]
    }
   ],
   "source": [
    "diff_02 = set(range(400,504)) - set(list_tensors[0])\n",
    "print(diff_02)"
   ]
  },
  {
   "cell_type": "code",
   "execution_count": 44,
   "id": "a75b71dc",
   "metadata": {},
   "outputs": [
    {
     "name": "stdout",
     "output_type": "stream",
     "text": [
      "{512, 400, 401, 402, 403, 404, 405, 406, 407, 408, 409, 410, 411, 412, 413, 414, 415, 416, 417, 418, 419, 420, 421, 422, 423, 424, 425, 426, 427, 428, 429, 430, 431, 432, 433, 434, 435, 436, 437, 438, 439, 440, 441, 442, 443, 444, 445, 446, 447, 448, 449, 450, 451, 452, 453, 454, 455, 456, 457, 458, 459, 460, 461, 462, 463, 464, 465, 466, 467, 468, 469, 470, 471, 472, 473, 474, 475, 476, 477, 478, 479, 480, 481, 482, 483, 484, 485, 486, 487, 488, 489, 490, 491, 492, 493, 494, 495, 496, 497, 498, 499, 500, 501, 502, 503, 504, 509, 510, 511}\n",
      "109\n"
     ]
    }
   ],
   "source": [
    "diff_2 = set(list_tensors[2]) - set(range(400))\n",
    "print(diff_2)\n",
    "print(len(diff_2))"
   ]
  },
  {
   "cell_type": "code",
   "execution_count": 37,
   "id": "d2e5f459",
   "metadata": {},
   "outputs": [
    {
     "name": "stdout",
     "output_type": "stream",
     "text": [
      "{563, 564, 565, 566, 567, 568, 569, 570, 571, 572, 573, 574, 575, 576, 577, 578, 579, 580, 581, 582, 583, 584, 585, 586, 587, 588, 589, 590, 591, 592, 593, 594, 595, 596, 597, 598, 599, 600, 601, 602, 603, 604, 605, 606, 607, 608, 609, 610, 611, 612, 613, 614, 615, 616, 617, 618, 619, 620, 621, 622, 623, 624, 625, 626, 627, 628, 629, 630, 631, 632, 633, 634, 635, 636, 637, 638, 639, 640, 641, 642, 643, 644, 645, 646, 647, 648, 649, 650, 651, 652, 653, 654, 655, 656, 657, 658, 659, 660, 661, 662, 444, 450, 451, 495, 496, 497, 498, 499, 500, 501, 502, 503, 504}\n"
     ]
    }
   ],
   "source": [
    "diff_3 = set(list_tensors[3]) - set(range(400))\n",
    "print(diff_3)"
   ]
  },
  {
   "cell_type": "code",
   "execution_count": 36,
   "id": "18f20ac3",
   "metadata": {},
   "outputs": [
    {
     "name": "stdout",
     "output_type": "stream",
     "text": [
      "{400, 401, 402, 403, 404, 405, 406, 407, 408, 409, 410, 411, 412, 413, 414, 415, 416, 417, 418, 419, 420, 421, 422, 423, 424, 425, 426, 427, 428, 429, 430, 431, 432, 433, 434, 435, 436, 437, 438, 439, 440, 441, 442, 443, 444, 445, 446, 447, 448, 449, 450, 451, 452, 453, 454, 455, 456, 457, 458, 459, 460, 461, 462, 463, 464, 465, 466, 467, 468, 469, 470, 471, 472, 473, 474, 475, 476, 477, 478, 479, 480, 481, 482, 483, 484, 485, 486, 487, 488, 489, 490, 491, 492, 493, 494, 495, 496, 497, 498, 499, 500, 501, 502, 503, 504, 505, 506, 507, 508}\n"
     ]
    }
   ],
   "source": [
    "diff_4 = set(list_tensors[4]) - set(range(400))\n",
    "print(diff_4)"
   ]
  },
  {
   "cell_type": "code",
   "execution_count": null,
   "id": "3fd4e067",
   "metadata": {},
   "outputs": [],
   "source": [
    "print(\"Shared by all tensors:\")\n",
    "l01234=list[0].intersection(list[1], list[2], list[3], list[4])\n",
    "#print(l01234)\n",
    "print(len(l01234))\n",
    "\n",
    "print(\"Shared by 0, 1, 2, 3:\")\n",
    "l0123=list[0].intersection(list[1], list[2], list[3])-l01234\n",
    "#print(l0123)\n",
    "print(len(l0123))\n",
    "\n",
    "print(\"Shared by 0, 1, 2, 4:\")\n",
    "l0124=list[0].intersection(list[1], list[2], list[4])-l01234\n",
    "#print(l0124)\n",
    "print(len(l0124))\n",
    "\n",
    "print(\"Shared by 0, 1, 3, 4:\")\n",
    "l0134=list[0].intersection(list[1], list[3], list[4])-l01234\n",
    "#print(l0134)\n",
    "print(len(l0134))\n",
    "\n",
    "print(\"Shared by 0, 2, 3, 4:\")\n",
    "l0234=list[0].intersection(list[2], list[3], list[4])-l01234\n",
    "#print(l0234)\n",
    "print(len(l0234))\n",
    "\n",
    "print(\"Shared by 1, 2, 3, 4:\")\n",
    "l1234=list[1].intersection(list[2], list[3], list[4])-l01234\n",
    "#print(l1234)\n",
    "print(len(l1234))\n",
    "\n",
    "print(\"Shared by 0, 1, 2:\")\n",
    "l012=list[0].intersection(list[1], list[2])-l0123-l0124-l01234\n",
    "#print(l012)\n",
    "print(len(l012))\n",
    "\n",
    "print(\"Shared by 0, 1, 3:\")\n",
    "l013=list[0].intersection(list[1], list[3])-l0123-l0134-l01234\n",
    "#print(l013)\n",
    "print(len(l013))\n",
    "\n",
    "print(\"Shared by 0, 1, 4:\")\n",
    "l014=list[0].intersection(list[1], list[4])-l0124-l0134-l01234\n",
    "#print(l014)\n",
    "print(len(l014))\n",
    "\n",
    "print(\"Shared by 0, 2, 3:\")\n",
    "l023=list[0].intersection(list[2], list[3])-l0123-l0234-l01234\n",
    "#print(l023)\n",
    "print(len(l023))\n",
    "\n",
    "print(\"Shared by 0, 2, 4:\")\n",
    "l024=list[0].intersection(list[2], list[4])-l0124-l0234-l01234\n",
    "#print(l024)\n",
    "print(len(l024))\n",
    "\n",
    "print(\"Shared by 0, 3, 4:\")\n",
    "l034=list[0].intersection(list[3], list[4])-l0134-l0234-l01234\n",
    "#print(l034)\n",
    "print(len(l034))\n",
    "\n",
    "print(\"Shared by 1, 2, 3:\")\n",
    "l123=list[1].intersection(list[2], list[3])-l0123-l1234-l01234\n",
    "#print(l123)\n",
    "print((l123))\n",
    "\n",
    "print(\"Shared by 1, 2, 4:\")\n",
    "l124=list[1].intersection(list[2], list[4])-l0124-l1234-l01234\n",
    "#print(l124)\n",
    "print(len(l124))\n",
    "\n",
    "print(\"Shared by 1, 3, 4:\")\n",
    "l134=list[1].intersection(list[3], list[4])-l0134-l1234-l01234\n",
    "#print(l134)\n",
    "print(len(l134))\n",
    "\n",
    "print(\"Shared by 2, 3, 4:\")\n",
    "l234=list[2].intersection(list[3], list[4])-l0234-l1234-l01234\n",
    "#print(l234)\n",
    "print(len(l234))\n",
    "\n",
    "print(\"Shared by 0, 1:\")\n",
    "l01=list[0].intersection(list[1])-l012-l013-l014-l0123-l0124-l0134-l01234\n",
    "#print(l01)\n",
    "print(len(l01))\n",
    "\n",
    "print(\"Shared by 0, 2:\")\n",
    "l02=list[0].intersection(list[2])-l012-l023-l024-l0123-l0124-l0234-l01234\n",
    "#print(l02)\n",
    "print(len(l02))\n",
    "\n",
    "print(\"Shared by 0, 3:\")\n",
    "l03=list[0].intersection(list[3])-l013-l023-l034-l0123-l0234-l0234-l01234\n",
    "#print(l03)\n",
    "print(len(l03))\n",
    "\n",
    "print(\"Shared by 0, 4:\")\n",
    "l04=list[0].intersection(list[4])-l014-l024-l034-l0124-l0134-l0234-l01234\n",
    "#print(l04)\n",
    "print(len(l04))\n",
    "\n",
    "print(\"Shared by 1, 2:\")\n",
    "l12=list[1].intersection(list[2])-l012-l123-l124-l0123-l0124-l1234-l01234\n",
    "#print(l12)\n",
    "print(len(l12))\n",
    "\n",
    "print(\"Shared by 1, 3:\")\n",
    "l13=list[1].intersection(list[3])-l013-l034-l134-l0123-l0134-l1234-l01234\n",
    "#print(l13)\n",
    "print(len(l13))\n",
    "\n",
    "print(\"Shared by 1, 4:\")\n",
    "l14=list[1].intersection(list[4])-l014-l124-l134-l0124-l0134-l1234-l01234\n",
    "#print(l14)\n",
    "print(len(l14))\n",
    "\n",
    "print(\"Shared by 2, 3:\")\n",
    "l23=list[2].intersection(list[3])-l023-l123-l234-l0123-l0234-l1234-l01234\n",
    "#print(l23)\n",
    "print(len(l23))\n",
    "\n",
    "print(\"Shared by 2, 4:\")\n",
    "l24=list[2].intersection(list[4])-l024-l124-l234-l0124-l0234-l1234-l01234\n",
    "#print(l24)\n",
    "print(len(l24))\n",
    "\n",
    "print(\"Shared by 3, 4:\")\n",
    "l34=list[3].intersection(list[4])-l034-l134-l234-l0134-l0234-l1234-l01234\n",
    "#print(l34)\n",
    "print(len(l34))\n",
    "\n",
    "print(\"Private to 0:\")\n",
    "l0=list[0]-l01-l02-l03-l04-l012-l013-l014-l023-l024-l034-l0123-l0124-l0134-l0234-l01234\n",
    "#print(l0)\n",
    "print(len(l0))\n",
    "\n",
    "print(\"Private to 1:\")\n",
    "l1=list[1]-l01-l12-l13-l14-l012-l013-l014-l123-l124-l134-l0123-l0124-l0134-l1234-l01234\n",
    "#print(l1)\n",
    "print(len(l1))\n",
    "\n",
    "print(\"Private to 2:\")\n",
    "l2=list[2]-l02-l12-l23-l24-l012-l023-l024-l123-l124-l234-l0123-l0124-l0234-l1234-l01234\n",
    "#print(l2)\n",
    "print(len(l2))\n",
    "\n",
    "print(\"Private to 3:\")\n",
    "l3=list[3]-l03-l13-l23-l34-l013-l023-l034-l123-l134-l234-l0123-l0134-l0234-l1234-l01234\n",
    "#print(l3)\n",
    "print(len(l3))\n",
    "\n",
    "print(\"Private to 4:\")\n",
    "l4=list[4]-l04-l14-l24-l34-l014-l024-l034-l124-l134-l234-l0124-l0134-l0234-l1234-l01234\n",
    "#print(l4)\n",
    "print(len(l4))"
   ]
  },
  {
   "cell_type": "code",
   "execution_count": null,
   "id": "f72cc94e",
   "metadata": {},
   "outputs": [],
   "source": [
    "l0 = ['A','B','C','C','C','C']\n",
    "list_combinations_of_n = list(multiset_combinations(l0, min(5,len(l0))))\n",
    "print(list_combinations_of_n)"
   ]
  },
  {
   "cell_type": "code",
   "execution_count": null,
   "id": "fc81236e",
   "metadata": {},
   "outputs": [],
   "source": [
    "import numpy as np\n",
    "from sympy.utilities.iterables import multiset_combinations\n",
    "\n",
    "#ll0=[491,501,487,488,493,494,665,666,667,668,669,670,671]\n",
    "#ll1=[491,410,490,561,562]\n",
    "#ll2=[491,501,487,488,493,494,410,490,415,512,509,510,511]\n",
    "#ll3=[501,659,660,661,662]\n",
    "#ll4=[491,501,487,488,493,494,410,490,415,505,506,507,508]\n",
    "\n",
    "#ll0=[('A',0),('B',0),('C',1),('C',2),('C',3),('C',4)]\n",
    "#ll1=[('A',0),('D',0),('D',1)]\n",
    "#ll2=[('A',0),('B',0),('C',1),('C',2),('C',3),('C',4),('D',0),('D',1),('E',0)]\n",
    "#ll3=[('B',0)]\n",
    "#ll4=[]\n",
    "\n",
    "ll0 = ['A','B','C','C','C','C']\n",
    "ll1 = ['A','D','D']\n",
    "ll2 = ['A','B','C','C','C','C','D','D','E']\n",
    "ll3 = ['B']\n",
    "\n",
    "\n",
    "#ll0=[491,501,487,488,493,494,665,666,667,668,669,670,671]\n",
    "#ll1=[491,410,490,561,562]\n",
    "#ll2=[491,501,487,488,493,494,410,490,415,512,509,510,511]\n",
    "#ll3=[501,659,660,661,662]\n",
    "#ll4=[491,501,487,488,493,494,410,490,415,505,506,507,508]\n",
    "blocks_in_page = 8\n",
    "\n",
    "list_of_tensors = [ll0,ll1,ll2,ll3]\n",
    "\n",
    "list_of_real_len = [13,5,13,5,13]\n",
    "\n",
    "min_combination = blocks_in_page - 1\n",
    "for i in range(len(list_of_real_len)):\n",
    "    if(list_of_real_len[i] < min_combination):\n",
    "        min_combination = list_of_real_len[i]%blocks_in_page\n",
    "\n",
    "print(list_of_tensors)\n",
    "print(min_combination)\n",
    "\n",
    "\n",
    "#while(max(list_of_real_len)>blocks_in_page):\n",
    "    \n"
   ]
  },
  {
   "cell_type": "code",
   "execution_count": null,
   "id": "6fcd8624",
   "metadata": {},
   "outputs": [],
   "source": [
    "import numpy as np\n",
    "from numpy.lib.arraysetops import unique\n",
    "from bin_pack import *\n",
    "import uuid\n",
    "import hashlib\n",
    "import timeit\n",
    "\n",
    "ll0 = ['A','B','C','C','C','C']\n",
    "ll1 = ['A','D','D']\n",
    "ll2 = ['A','B','C','C','C','C','D','D','E']\n",
    "ll3 = ['B']\n",
    "ll4 = ['A','B','C','C','C','C','D','D','E']\n",
    "\n",
    "lll0=[('A',0),('B',0),('C',0),('C',1),('C',2),('C',3),('F',0),('F',1),('F',2),('F',3),('F',4),('F',5),('F',6)]\n",
    "lll1=[('A',0),('D',0),('D',1),('G',0),('G',1)]\n",
    "lll2=[('A',0),('B',0),('C',0),('C',1),('C',2),('C',3),('D',0),('D',1),('E',0),('H',0),('H',1),('H',2),('H',3)]\n",
    "lll3=[('B',0),('I',0),('I',1),('I',2),('I',3)]\n",
    "lll4=[('A',0),('B',0),('C',0),('C',1),('C',2),('C',3),('D',0),('D',1),('E',0),('J',0),('J',1),('J',2),('J',3)]\n",
    "\n",
    "\n",
    "#ll0=[491,501,487,488,493,494,665,666,667,668,669,670,671]\n",
    "#ll1=[491,410,490,561,562]\n",
    "#ll2=[491,501,487,488,493,494,410,490,415,512,509,510,511]\n",
    "#ll3=[501,659,660,661,662]\n",
    "#ll4=[491,501,487,488,493,494,410,490,415,505,506,507,508]\n",
    "\n",
    "list_of_tensors_1 = [ll0,ll1,ll2,ll3,ll4]\n",
    "list_of_org_tensors_1 = [lll0,lll1,lll2,lll3,lll4]\n",
    "list_of_real_len_1 = [13,5,13,5,13]\n",
    "\n",
    "list_of_tensors_2 = [ll2,ll0,ll1,ll3,ll4]\n",
    "list_of_org_tensors_2 = [lll2,lll0,lll1,lll3,lll4]\n",
    "list_of_real_len_2 = [13,13,5,13,5]\n",
    "\n",
    "list_of_tensors_3 = [ll4,ll0,ll1,ll2,ll3]\n",
    "list_of_org_tensors_3 = [lll4,lll0,lll1,lll2,lll3]\n",
    "list_of_real_len_3 = [13,13,5,13,5]\n",
    "\n",
    "blocks_in_page = 8 # page can have 8 blocks\n",
    "P = set()\n",
    "start = timeit.default_timer()\n",
    "P = bin_pack_dp(list_of_tensors_1, list_of_org_tensors_1, blocks_in_page, list_of_real_len_1)\n",
    "#print('finish one')\n",
    "P.union(bin_pack_dp(list_of_tensors_2, list_of_org_tensors_2, blocks_in_page, list_of_real_len_2))\n",
    "#print('finish two')\n",
    "P.union(bin_pack_dp(list_of_tensors_3, list_of_org_tensors_3, blocks_in_page, list_of_real_len_3))\n",
    "stop = timeit.default_timer()\n",
    "t2 = stop - start\n",
    "\n",
    "#L = list(P)\n",
    "#for i in range(len(L)):\n",
    "#    print(L[i].numBins)"
   ]
  },
  {
   "cell_type": "code",
   "execution_count": null,
   "id": "c3e16e39",
   "metadata": {},
   "outputs": [],
   "source": [
    "i, j = 0, 0\n",
    "l = 8\n",
    "start = timeit.default_timer()\n",
    "\n",
    "I = [l01234,l0124,l0234,l024,l124,l24,l0,l1,l2,l3,l4]\n",
    "p_i_j = BinPackingScheme(I, l)\n",
    "\n",
    "for i in range(len(I)):\n",
    "    j = i + 1\n",
    "    s = math.ceil(i / l) + 1\n",
    "    p_i_j.mark(j, s)\n",
    "\n",
    "stop = timeit.default_timer()\n",
    "t3 = stop - start\n",
    "\n",
    "print('Time: ', t1+t2+t3)\n",
    "print('Time: ', t1+t3)"
   ]
  },
  {
   "cell_type": "code",
   "execution_count": null,
   "id": "026f2e98",
   "metadata": {},
   "outputs": [],
   "source": [
    "import numpy as np\n",
    "\n",
    "output = dict()\n",
    "tensor_page_mapping = dict()\n",
    "one_tensor_set = set()\n",
    "for i in range(0,2):\n",
    "    one_tensor_set.add(i)\n",
    "for i in range(6,67):\n",
    "    one_tensor_set.add(i)\n",
    "one_tensor_set.add(68)\n",
    "one_tensor_list = list(one_tensor_set)\n",
    "tensor_page_mapping[0] = one_tensor_list\n",
    "\n",
    "one_tensor_set2 = set()\n",
    "one_tensor_set2.add(2)\n",
    "for i in range(6,63):\n",
    "    one_tensor_set2.add(i)\n",
    "for i in range(69,75):\n",
    "    one_tensor_set2.add(i)\n",
    "one_tensor_list2 = list(one_tensor_set2)\n",
    "tensor_page_mapping[1] = one_tensor_list2\n",
    "\n",
    "one_tensor_set3 = set()\n",
    "one_tensor_set3.add(0)\n",
    "one_tensor_set3.add(3)\n",
    "for i in range(6,68):\n",
    "    one_tensor_set3.add(i)\n",
    "one_tensor_list3 = list(one_tensor_set3)\n",
    "tensor_page_mapping[2] = one_tensor_list3\n",
    "\n",
    "one_tensor_set4 = set()\n",
    "one_tensor_set4.add(4)\n",
    "for i in range(6,57):\n",
    "    one_tensor_set4.add(i)\n",
    "for i in range(75,87):\n",
    "    one_tensor_set4.add(i)\n",
    "one_tensor_list4 = list(one_tensor_set4)\n",
    "tensor_page_mapping[3] = one_tensor_list4\n",
    "\n",
    "one_tensor_set5 = set()\n",
    "one_tensor_set5.add(0)\n",
    "one_tensor_set5.add(5)\n",
    "for i in range(6,68):\n",
    "    one_tensor_set5.add(i)\n",
    "one_tensor_list5 = list(one_tensor_set5)\n",
    "tensor_page_mapping[4] = one_tensor_list5\n",
    "\n",
    "print(\"tensor_page_mapping:\")\n",
    "print(tensor_page_mapping)\n",
    "\n",
    "output['tensor_page_mapping'] = tensor_page_mapping\n",
    "np.save('dp_page_pack_output.npy',output)"
   ]
  },
  {
   "cell_type": "code",
   "execution_count": null,
   "id": "ab42a2fb",
   "metadata": {},
   "outputs": [],
   "source": []
  }
 ],
 "metadata": {
  "kernelspec": {
   "display_name": "Python 3",
   "language": "python",
   "name": "python3"
  },
  "language_info": {
   "codemirror_mode": {
    "name": "ipython",
    "version": 3
   },
   "file_extension": ".py",
   "mimetype": "text/x-python",
   "name": "python",
   "nbconvert_exporter": "python",
   "pygments_lexer": "ipython3",
   "version": "3.8.8"
  }
 },
 "nbformat": 4,
 "nbformat_minor": 5
}
