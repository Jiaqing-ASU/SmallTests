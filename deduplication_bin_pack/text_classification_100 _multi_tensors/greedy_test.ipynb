{
 "cells": [
  {
   "cell_type": "code",
   "execution_count": 1,
   "id": "f3fcac9f",
   "metadata": {},
   "outputs": [
    {
     "name": "stdout",
     "output_type": "stream",
     "text": [
      "Time:  1.6335693380096927\n",
      "119\n"
     ]
    }
   ],
   "source": [
    "import numpy as np\n",
    "from numpy.lib.arraysetops import unique\n",
    "from bin_pack import *\n",
    "import uuid\n",
    "import hashlib\n",
    "import timeit\n",
    "\n",
    "input_list = np.load('new_tensor_list_10.npy', allow_pickle=True).item()\n",
    "list_of_tensors = list(input_list['list_of_tensors'])\n",
    "\n",
    "blocks_in_page = 8 # page can have 8 blocks\n",
    "P = set()\n",
    "start = timeit.default_timer()\n",
    "P, tensor_page_mapping = bin_pack_greedy(list_of_tensors, blocks_in_page)\n",
    "\n",
    "stop = timeit.default_timer()\n",
    "print('Time: ', stop - start) \n",
    "L = list(P)\n",
    "print(L[0].numBins)\n",
    "block_page_list = L[0].p_i_j"
   ]
  },
  {
   "cell_type": "code",
   "execution_count": null,
   "id": "a0a8c7fe",
   "metadata": {},
   "outputs": [],
   "source": [
    "import numpy as np\n",
    "block_page_list = L[0].p_i_j\n",
    "block_page_mapping = dict()\n",
    "for i in range(len(block_page_list)):\n",
    "    block_page_index = block_page_list[i].index(1)\n",
    "    block_page_mapping[i] = block_page_index\n",
    "#print(\"block_page_mapping\\n\")\n",
    "#print(block_page_mapping)\n",
    "\n",
    "#tensor_page_mapping = dict()\n",
    "#tensor_page_whole_mapping = dict()\n",
    "#for t in range(num_tensors):\n",
    "#    one_tensor = list_of_tensors[t]\n",
    "#    tensor_len = len(one_tensor)\n",
    "#    one_tensor_set = set()\n",
    "#    one_tensor_whole_list = list()\n",
    "#    for i in range(tensor_len):\n",
    "#        page_id = block_page_mapping.get(one_tensor[i])\n",
    "#        one_tensor_set.add(page_id)\n",
    "#        one_tensor_whole_list.append(page_id)\n",
    "#    one_tensor_list = list(one_tensor_set)\n",
    "#    tensor_page_mapping[t] = one_tensor_list\n",
    "#    tensor_page_whole_mapping[t] = one_tensor_whole_list\n",
    "#\n",
    "#print(\"tensor_page_mapping\\n\")\n",
    "#print(tensor_page_mapping)\n",
    "\n",
    "output = dict()\n",
    "output['block_page_mapping'] = block_page_mapping\n",
    "output['tensor_page_mapping'] = tensor_page_mapping\n",
    "np.save('greedy_page_pack_output.npy',output)"
   ]
  },
  {
   "cell_type": "code",
   "execution_count": null,
   "id": "5f8fa2c1",
   "metadata": {},
   "outputs": [],
   "source": [
    "#flag = True\n",
    "#for j in range(len(tensor_page_mapping)):\n",
    "#    one_tensor_in_output_page = tensor_page_whole_mapping.get(j)\n",
    "#    one_tensor_in_input_list = list_of_tensors[j]\n",
    "#    for i in range(len(one_tensor_in_input_list)):\n",
    "#        if(block_page_mapping.get(one_tensor_in_input_list[i]) != one_tensor_in_output_page[i]):\n",
    "#            flag = False\n",
    "#print(flag)"
   ]
  },
  {
   "cell_type": "code",
   "execution_count": null,
   "id": "7a48e290",
   "metadata": {},
   "outputs": [],
   "source": []
  }
 ],
 "metadata": {
  "kernelspec": {
   "display_name": "Python 3",
   "language": "python",
   "name": "python3"
  },
  "language_info": {
   "codemirror_mode": {
    "name": "ipython",
    "version": 3
   },
   "file_extension": ".py",
   "mimetype": "text/x-python",
   "name": "python",
   "nbconvert_exporter": "python",
   "pygments_lexer": "ipython3",
   "version": "3.8.8"
  }
 },
 "nbformat": 4,
 "nbformat_minor": 5
}
