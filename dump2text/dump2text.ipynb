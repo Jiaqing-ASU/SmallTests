{
 "cells": [
  {
   "cell_type": "code",
   "execution_count": null,
   "id": "d078f447",
   "metadata": {
    "scrolled": true
   },
   "outputs": [],
   "source": [
    "import tensorflow as tf\n",
    "import tensorflow_hub as hub\n",
    "import numpy as np"
   ]
  },
  {
   "cell_type": "code",
   "execution_count": null,
   "id": "d0c4e4e4",
   "metadata": {},
   "outputs": [],
   "source": [
    "w2v_layer = hub.KerasLayer(\"https://tfhub.dev/google/Wiki-words-500/2\", input_shape=[], dtype=tf.string,trainable=True,)"
   ]
  },
  {
   "cell_type": "code",
   "execution_count": null,
   "id": "2bf71765",
   "metadata": {},
   "outputs": [],
   "source": [
    "len(w2v_layer.get_weights())"
   ]
  },
  {
   "cell_type": "code",
   "execution_count": null,
   "id": "266c8de4",
   "metadata": {},
   "outputs": [],
   "source": [
    "w2v_layer.get_weights()[0]"
   ]
  },
  {
   "cell_type": "code",
   "execution_count": null,
   "id": "5ae26398",
   "metadata": {},
   "outputs": [],
   "source": [
    "w2v_layer.get_weights()[0].shape"
   ]
  },
  {
   "cell_type": "code",
   "execution_count": null,
   "id": "dec0245b",
   "metadata": {},
   "outputs": [],
   "source": [
    "header = \"{},{}\".format(*w2v_layer.get_weights()[0].shape)"
   ]
  },
  {
   "cell_type": "code",
   "execution_count": null,
   "id": "e278d18f",
   "metadata": {},
   "outputs": [],
   "source": [
    "header"
   ]
  },
  {
   "cell_type": "code",
   "execution_count": null,
   "id": "636b7ed0",
   "metadata": {},
   "outputs": [],
   "source": [
    "w2v_layer.get_weights()[0].flatten().shape"
   ]
  },
  {
   "cell_type": "code",
   "execution_count": null,
   "id": "cae2a2ae",
   "metadata": {},
   "outputs": [],
   "source": [
    "np.savetxt(\"weights.np\", w2v_layer.get_weights()[0].flatten(), header=header)"
   ]
  },
  {
   "cell_type": "code",
   "execution_count": 2,
   "id": "4f6a7f5d",
   "metadata": {},
   "outputs": [],
   "source": [
    "import tensorflow as tf\n",
    "model = tf.keras.models.load_model('/home/jiaqingchen/word2vec/word2vec_shakespeare_finetuned_1epoch/')"
   ]
  },
  {
   "cell_type": "code",
   "execution_count": 3,
   "id": "63583a70",
   "metadata": {},
   "outputs": [
    {
     "data": {
      "text/plain": [
       "2"
      ]
     },
     "execution_count": 3,
     "metadata": {},
     "output_type": "execute_result"
    }
   ],
   "source": [
    "len(model.get_weights())"
   ]
  },
  {
   "cell_type": "code",
   "execution_count": 4,
   "id": "9d7eb6da",
   "metadata": {},
   "outputs": [
    {
     "data": {
      "text/plain": [
       "array([[-0.05145638,  0.01450504, -0.04712359, ...,  0.01535622,\n",
       "        -0.00970996,  0.03382562],\n",
       "       [-0.00520406, -0.00024366,  0.02959662, ...,  0.08328122,\n",
       "         0.02665589,  0.07133042],\n",
       "       [ 0.00354085, -0.02428717, -0.07016906, ..., -0.03126948,\n",
       "        -0.09131008,  0.01216679],\n",
       "       ...,\n",
       "       [-0.04127242, -0.05809047, -0.01787826, ..., -0.01277609,\n",
       "         0.01211983,  0.08145001],\n",
       "       [-0.0204319 ,  0.01409322, -0.01394944, ...,  0.01158248,\n",
       "        -0.02606145,  0.08645454],\n",
       "       [ 0.        ,  0.        ,  0.        , ...,  0.        ,\n",
       "         0.        ,  0.        ]], dtype=float32)"
      ]
     },
     "execution_count": 4,
     "metadata": {},
     "output_type": "execute_result"
    }
   ],
   "source": [
    "model.get_weights()[0]"
   ]
  },
  {
   "cell_type": "code",
   "execution_count": 5,
   "id": "c116a493",
   "metadata": {},
   "outputs": [
    {
     "data": {
      "text/plain": [
       "(1009375, 500)"
      ]
     },
     "execution_count": 5,
     "metadata": {},
     "output_type": "execute_result"
    }
   ],
   "source": [
    "model.get_weights()[0].shape"
   ]
  },
  {
   "cell_type": "code",
   "execution_count": 6,
   "id": "33bd4dda",
   "metadata": {},
   "outputs": [],
   "source": [
    "header = \"{},{}\".format(*model.get_weights()[0].shape)"
   ]
  },
  {
   "cell_type": "code",
   "execution_count": 7,
   "id": "9c089628",
   "metadata": {},
   "outputs": [
    {
     "data": {
      "text/plain": [
       "'1009375,500'"
      ]
     },
     "execution_count": 7,
     "metadata": {},
     "output_type": "execute_result"
    }
   ],
   "source": [
    "header"
   ]
  },
  {
   "cell_type": "code",
   "execution_count": 9,
   "id": "ee91103f",
   "metadata": {},
   "outputs": [
    {
     "data": {
      "text/plain": [
       "(504687500,)"
      ]
     },
     "execution_count": 9,
     "metadata": {},
     "output_type": "execute_result"
    }
   ],
   "source": [
    "model.get_weights()[0].flatten().shape"
   ]
  },
  {
   "cell_type": "code",
   "execution_count": 12,
   "id": "4df426b9",
   "metadata": {},
   "outputs": [],
   "source": [
    "import numpy as np\n",
    "np.savetxt(\"model/weights.np\", model.get_weights()[0].flatten(), header=header)"
   ]
  },
  {
   "cell_type": "code",
   "execution_count": null,
   "id": "bb380a06",
   "metadata": {},
   "outputs": [],
   "source": []
  }
 ],
 "metadata": {
  "kernelspec": {
   "display_name": "Python 3",
   "language": "python",
   "name": "python3"
  },
  "language_info": {
   "codemirror_mode": {
    "name": "ipython",
    "version": 3
   },
   "file_extension": ".py",
   "mimetype": "text/x-python",
   "name": "python",
   "nbconvert_exporter": "python",
   "pygments_lexer": "ipython3",
   "version": "3.8.8"
  }
 },
 "nbformat": 4,
 "nbformat_minor": 5
}
