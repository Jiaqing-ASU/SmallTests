{
 "cells": [
  {
   "cell_type": "code",
   "execution_count": 13,
   "id": "1e418612",
   "metadata": {
    "scrolled": true
   },
   "outputs": [],
   "source": [
    "import tensorflow as tf\n",
    "import tensorflow_hub as hub\n",
    "import numpy as np"
   ]
  },
  {
   "cell_type": "code",
   "execution_count": 5,
   "id": "4e2ddffc",
   "metadata": {},
   "outputs": [],
   "source": [
    "w2v_layer = hub.KerasLayer(\"https://tfhub.dev/google/Wiki-words-500/2\", input_shape=[], dtype=tf.string,trainable=True,)"
   ]
  },
  {
   "cell_type": "code",
   "execution_count": 6,
   "id": "f729a793",
   "metadata": {},
   "outputs": [
    {
     "data": {
      "text/plain": [
       "1"
      ]
     },
     "execution_count": 6,
     "metadata": {},
     "output_type": "execute_result"
    }
   ],
   "source": [
    "len(w2v_layer.get_weights())"
   ]
  },
  {
   "cell_type": "code",
   "execution_count": 7,
   "id": "bf070bb6",
   "metadata": {},
   "outputs": [
    {
     "data": {
      "text/plain": [
       "array([[-0.05145638,  0.01450504, -0.04712359, ...,  0.01535622,\n",
       "        -0.00970996,  0.03382562],\n",
       "       [ 0.05941046,  0.08361922, -0.02026794, ...,  0.00743451,\n",
       "        -0.05680255,  0.00028054],\n",
       "       [ 0.00354085, -0.02428717, -0.07016906, ..., -0.03126948,\n",
       "        -0.09131008,  0.01216679],\n",
       "       ...,\n",
       "       [-0.04127242, -0.05809047, -0.01787826, ..., -0.01277609,\n",
       "         0.01211983,  0.08145001],\n",
       "       [-0.0204319 ,  0.01409322, -0.01394944, ...,  0.01158248,\n",
       "        -0.02606145,  0.08645454],\n",
       "       [ 0.        ,  0.        ,  0.        , ...,  0.        ,\n",
       "         0.        ,  0.        ]], dtype=float32)"
      ]
     },
     "execution_count": 7,
     "metadata": {},
     "output_type": "execute_result"
    }
   ],
   "source": [
    "w2v_layer.get_weights()[0]"
   ]
  },
  {
   "cell_type": "code",
   "execution_count": 8,
   "id": "ddf1e134",
   "metadata": {},
   "outputs": [
    {
     "data": {
      "text/plain": [
       "(1009375, 500)"
      ]
     },
     "execution_count": 8,
     "metadata": {},
     "output_type": "execute_result"
    }
   ],
   "source": [
    "w2v_layer.get_weights()[0].shape"
   ]
  },
  {
   "cell_type": "code",
   "execution_count": 9,
   "id": "7762e253",
   "metadata": {},
   "outputs": [],
   "source": [
    "header = \"{},{}\".format(*w2v_layer.get_weights()[0].shape)"
   ]
  },
  {
   "cell_type": "code",
   "execution_count": 10,
   "id": "7dee2c2f",
   "metadata": {},
   "outputs": [
    {
     "data": {
      "text/plain": [
       "'1009375,500'"
      ]
     },
     "execution_count": 10,
     "metadata": {},
     "output_type": "execute_result"
    }
   ],
   "source": [
    "header"
   ]
  },
  {
   "cell_type": "code",
   "execution_count": 11,
   "id": "b1770da8",
   "metadata": {},
   "outputs": [
    {
     "data": {
      "text/plain": [
       "(504687500,)"
      ]
     },
     "execution_count": 11,
     "metadata": {},
     "output_type": "execute_result"
    }
   ],
   "source": [
    "w2v_layer.get_weights()[0].flatten().shape"
   ]
  },
  {
   "cell_type": "code",
   "execution_count": 14,
   "id": "ec1e83a8",
   "metadata": {},
   "outputs": [],
   "source": [
    "np.savetxt(\"weights.np\", w2v_layer.get_weights()[0].flatten(), header=header)"
   ]
  },
  {
   "cell_type": "code",
   "execution_count": null,
   "id": "b135c320",
   "metadata": {},
   "outputs": [],
   "source": []
  }
 ],
 "metadata": {
  "kernelspec": {
   "display_name": "Python 3",
   "language": "python",
   "name": "python3"
  },
  "language_info": {
   "codemirror_mode": {
    "name": "ipython",
    "version": 3
   },
   "file_extension": ".py",
   "mimetype": "text/x-python",
   "name": "python",
   "nbconvert_exporter": "python",
   "pygments_lexer": "ipython3",
   "version": "3.8.8"
  }
 },
 "nbformat": 4,
 "nbformat_minor": 5
}
