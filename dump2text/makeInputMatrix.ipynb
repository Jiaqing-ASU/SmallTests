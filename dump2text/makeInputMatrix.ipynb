{
 "cells": [
  {
   "cell_type": "code",
   "execution_count": 1,
   "id": "043bbbcb",
   "metadata": {},
   "outputs": [],
   "source": [
    "# Program to save a NumPy array to a text file\n",
    " \n",
    "# Importing required libraries\n",
    "import numpy\n",
    "import random\n",
    "\n",
    "rows, cols = (100, 10000)\n",
    "\n",
    "arr = [[0 for i in range(cols)] for j in range(rows)]\n",
    "\n",
    "for k in range(100):\n",
    "    arr[k][random.randint(0,9999)]=1\n",
    "\n",
    "# Displaying the array\n",
    "# print('Array:\\n', arr)\n",
    "\n",
    "# Saving the 2D array in a text file\n",
    "numpy.savetxt(\"input.txt\", arr)\n",
    " \n",
    "# Displaying the contents of the text file\n",
    "# content = numpy.loadtxt('input.txt')\n",
    "# print(\"\\nContent in input.txt:\\n\", content)"
   ]
  },
  {
   "cell_type": "code",
   "execution_count": null,
   "id": "bdc03829",
   "metadata": {},
   "outputs": [],
   "source": []
  }
 ],
 "metadata": {
  "kernelspec": {
   "display_name": "Python 3",
   "language": "python",
   "name": "python3"
  },
  "language_info": {
   "codemirror_mode": {
    "name": "ipython",
    "version": 3
   },
   "file_extension": ".py",
   "mimetype": "text/x-python",
   "name": "python",
   "nbconvert_exporter": "python",
   "pygments_lexer": "ipython3",
   "version": "3.8.8"
  }
 },
 "nbformat": 4,
 "nbformat_minor": 5
}
